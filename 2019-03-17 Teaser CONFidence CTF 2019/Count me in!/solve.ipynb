{
 "cells": [
  {
   "cell_type": "code",
   "execution_count": 1,
   "metadata": {},
   "outputs": [
    {
     "name": "stdout",
     "output_type": "stream",
     "text": [
      "9d5c66e65fae92af9c8a55d9d3bf640e8a5b76a878cbf691d3901392c9b8760ebd5c62b22c88dca9d1c55098cbbb644ae9406ba32c8293bdd29139bbc2b4605bba51238f2cb399a9d0894ad9cbb8774be9406ce66fae89a6c8ef7ad9c4b87442ad1470af78e19da6d8c55096d2b9750ea8586fe668a085c2ef8a5e9cd3be6c4bba144ae66ba488e8df84418bceb2650ea84362bf0688dcabd3905d8d87a46d414626be04a58215b84263a620de3203fa4626be08e2940da35c61b82c98201ce15438cd67eb921cf77c28a969de321bf4433ea24ca59216a25b7bb662996106e11639e75ae09015bb4c2fb76d8c254fe15e6ab45cea817391547cab698c6d4ff35039b34df7df599e412fb67fde3200b55432a441f19817b01405962c9d2e1af9556aa447f09f0df75360ad6988241db91129a85deb8559a25b7bb660de084ff1cc3a0e8041bc71d71fb29883931d9d3e8f784ca743b065c91ea386909e1a9100925f4fa742b1718c1efec4d4d609df5bcb3b17e417bd268d5fe6ced4d65b9c40d6305eeb1df03e9050e68bcad241dd15b46453b85dae7cd112b2c3c7ca50dd4ddf2c1ff350f5349c5febcadbd2509c40d6340aad03bd258d5bb2d8cdc647d814d1335efe18f8718651e7c5d6b9609c57d12010fe50e939801ee1dbcbd74cce4739c1eeceba8ef87360b629ed82a6eb9d508ee381bb88e97363bf20a1cfe7a7e07cccf3cea788bd277fb265e9cde4a9b937808aa7ee85f22679a365f5c4ede5f478c0e482ab95bd3c79f731e9c9a8b6ff7cc2e6c0e0c897047fb22ba1e5afa8b778c2ef80abcabd1a37b42af4c2fce5fa60dde582a8c7971a37b42af4c2fce5e475c1f782b7cabd207bb832edd5a4e5e4130a976ad4a2fe86ac99c18491f9f6c86adae59cc4a9f33072f70ca6daede5e40b049272c8e6b980b798c69e9fb7f7891611c7758df0fc82b481d1ca9eb8e2cd5f118f26def6f693d2abc99982bce2855f038175d9e7ebcdf8a4dcca9faab0da1045857eceebed8ab68a89e0bff9f3c60a098426ceedec8daccdce8584bce6cc0d49c065c2f7f797f898c69e9fb5b0e05f019269dd88a8c2f8df89cac5f8b09d00ad16dc760ead7c3518baed47603c5b5251cc269cae93d1f8a4888699aff58942c8529f304af0362143f2bd1e37670d538753992129ff3c6c5befb21e7331590c950ac26917be39644dfba50b2b70117fcbccba57b209ae95721a1c9d36073d934b75014109102be14fb6a044a7cf9e468748976457f6342177f5a9042630622f97d2ba5a8c04a7890d4e5fcb445b7600d7c1be71b711b6b32b4444f078557ef82e4f0559225437b455aa9a0bbaff89c834531a45115125c933d6cd6cdca8f8\n"
     ]
    }
   ],
   "source": [
    "with open('output.txt') as f:\n",
    "    encrypted = f.read()\n",
    "    print(encrypted)"
   ]
  },
  {
   "cell_type": "code",
   "execution_count": 2,
   "metadata": {},
   "outputs": [
    {
     "name": "stdout",
     "output_type": "stream",
     "text": [
      "b'\\x9d\\\\f\\xe6_\\xae\\x92\\xaf\\x9c\\x8aU\\xd9\\xd3\\xbfd\\x0e\\x8a[v\\xa8x\\xcb\\xf6\\x91\\xd3\\x90\\x13\\x92\\xc9\\xb8v\\x0e\\xbd\\\\b\\xb2,\\x88\\xdc\\xa9\\xd1\\xc5P\\x98\\xcb\\xbbdJ\\xe9@k\\xa3,\\x82\\x93\\xbd\\xd2\\x919\\xbb\\xc2\\xb4`[\\xbaQ#\\x8f,\\xb3\\x99\\xa9\\xd0\\x89J\\xd9\\xcb\\xb8wK\\xe9@l\\xe6o\\xae\\x89\\xa6\\xc8\\xefz\\xd9\\xc4\\xb8tB\\xad\\x14p\\xafx\\xe1\\x9d\\xa6\\xd8\\xc5P\\x96\\xd2\\xb9u\\x0e\\xa8Xo\\xe6h\\xa0\\x85\\xc2\\xef\\x8a^\\x9c\\xd3\\xbelK\\xba\\x14J\\xe6k\\xa4\\x88\\xe8\\xdf\\x84A\\x8b\\xce\\xb2e\\x0e\\xa8Cb\\xbf\\x06\\x88\\xdc\\xab\\xd3\\x90]\\x8d\\x87\\xa4mAF&\\xbe\\x04\\xa5\\x82\\x15\\xb8Bc\\xa6 \\xde2\\x03\\xfaF&\\xbe\\x08\\xe2\\x94\\r\\xa3\\\\a\\xb8,\\x98 \\x1c\\xe1T8\\xcdg\\xeb\\x92\\x1c\\xf7|(\\xa9i\\xde2\\x1b\\xf4C>\\xa2L\\xa5\\x92\\x16\\xa2[{\\xb6b\\x99a\\x06\\xe1\\x169\\xe7Z\\xe0\\x90\\x15\\xbbL/\\xb7m\\x8c%O\\xe1^j\\xb4\\\\\\xea\\x81s\\x91T|\\xabi\\x8cmO\\xf3P9\\xb3M\\xf7\\xdfY\\x9eA/\\xb6\\x7f\\xde2\\x00\\xb5T2\\xa4A\\xf1\\x98\\x17\\xb0\\x14\\x05\\x96,\\x9d.\\x1a\\xf9Uj\\xa4G\\xf0\\x9f\\r\\xf7S`\\xadi\\x88$\\x1d\\xb9\\x11)\\xa8]\\xeb\\x85Y\\xa2[{\\xb6`\\xde\\x08O\\xf1\\xcc:\\x0e\\x80A\\xbcq\\xd7\\x1f\\xb2\\x98\\x83\\x93\\x1d\\x9d>\\x8fxL\\xa7C\\xb0e\\xc9\\x1e\\xa3\\x86\\x90\\x9e\\x1a\\x91\\x00\\x92_O\\xa7B\\xb1q\\x8c\\x1e\\xfe\\xc4\\xd4\\xd6\\t\\xdf[\\xcb;\\x17\\xe4\\x17\\xbd&\\x8d_\\xe6\\xce\\xd4\\xd6[\\x9c@\\xd60^\\xeb\\x1d\\xf0>\\x90P\\xe6\\x8b\\xca\\xd2A\\xdd\\x15\\xb4dS\\xb8]\\xae|\\xd1\\x12\\xb2\\xc3\\xc7\\xcaP\\xddM\\xdf,\\x1f\\xf3P\\xf54\\x9c_\\xeb\\xca\\xdb\\xd2P\\x9c@\\xd64\\n\\xad\\x03\\xbd%\\x8d[\\xb2\\xd8\\xcd\\xc6G\\xd8\\x14\\xd13^\\xfe\\x18\\xf8q\\x86Q\\xe7\\xc5\\xd6\\xb9`\\x9cW\\xd1 \\x10\\xfeP\\xe99\\x80\\x1e\\xe1\\xdb\\xcb\\xd7L\\xceG9\\xc1\\xee\\xce\\xba\\x8e\\xf8s`\\xb6)\\xed\\x82\\xa6\\xeb\\x9dP\\x8e\\xe3\\x81\\xbb\\x88\\xe9sc\\xbf \\xa1\\xcf\\xe7\\xa7\\xe0|\\xcc\\xf3\\xce\\xa7\\x88\\xbd\\'\\x7f\\xb2e\\xe9\\xcd\\xe4\\xa9\\xb97\\x80\\x8a\\xa7\\xee\\x85\\xf2&y\\xa3e\\xf5\\xc4\\xed\\xe5\\xf4x\\xc0\\xe4\\x82\\xab\\x95\\xbd<y\\xf71\\xe9\\xc9\\xa8\\xb6\\xff|\\xc2\\xe6\\xc0\\xe0\\xc8\\x97\\x04\\x7f\\xb2+\\xa1\\xe5\\xaf\\xa8\\xb7x\\xc2\\xef\\x80\\xab\\xca\\xbd\\x1a7\\xb4*\\xf4\\xc2\\xfc\\xe5\\xfa`\\xdd\\xe5\\x82\\xa8\\xc7\\x97\\x1a7\\xb4*\\xf4\\xc2\\xfc\\xe5\\xe4u\\xc1\\xf7\\x82\\xb7\\xca\\xbd {\\xb82\\xed\\xd5\\xa4\\xe5\\xe4\\x13\\n\\x97j\\xd4\\xa2\\xfe\\x86\\xac\\x99\\xc1\\x84\\x91\\xf9\\xf6\\xc8j\\xda\\xe5\\x9c\\xc4\\xa9\\xf30r\\xf7\\x0c\\xa6\\xda\\xed\\xe5\\xe4\\x0b\\x04\\x92r\\xc8\\xe6\\xb9\\x80\\xb7\\x98\\xc6\\x9e\\x9f\\xb7\\xf7\\x89\\x16\\x11\\xc7u\\x8d\\xf0\\xfc\\x82\\xb4\\x81\\xd1\\xca\\x9e\\xb8\\xe2\\xcd_\\x11\\x8f&\\xde\\xf6\\xf6\\x93\\xd2\\xab\\xc9\\x99\\x82\\xbc\\xe2\\x85_\\x03\\x81u\\xd9\\xe7\\xeb\\xcd\\xf8\\xa4\\xdc\\xca\\x9f\\xaa\\xb0\\xda\\x10E\\x85~\\xce\\xeb\\xed\\x8a\\xb6\\x8a\\x89\\xe0\\xbf\\xf9\\xf3\\xc6\\n\\t\\x84&\\xce\\xed\\xec\\x8d\\xac\\xcd\\xce\\x85\\x84\\xbc\\xe6\\xcc\\rI\\xc0e\\xc2\\xf7\\xf7\\x97\\xf8\\x98\\xc6\\x9e\\x9f\\xb5\\xb0\\xe0_\\x01\\x92i\\xdd\\x88\\xa8\\xc2\\xf8\\xdf\\x89\\xca\\xc5\\xf8\\xb0\\x9d\\x00\\xad\\x16\\xdcv\\x0e\\xad|5\\x18\\xba\\xedG`<[RQ\\xcc&\\x9c\\xae\\x93\\xd1\\xf8\\xa4\\x88\\x86\\x99\\xaf\\xf5\\x89B\\xc8R\\x9f0J\\xf06!C\\xf2\\xbd\\x1e7g\\rS\\x87S\\x99!)\\xff<l[\\xef\\xb2\\x1es1Y\\x0c\\x95\\n\\xc2i\\x17\\xbe9dM\\xfb\\xa5\\x0b+p\\x11\\x7f\\xcb\\xcc\\xbaW\\xb2\\t\\xae\\x95r\\x1a\\x1c\\x9d6\\x07=\\x93Ku\\x01A\\t\\x10+\\xe1O\\xb6\\xa0D\\xa7\\xcf\\x9eF\\x87H\\x97dW\\xf64!w\\xf5\\xa9\\x04&0b/\\x97\\xd2\\xbaZ\\x8c\\x04\\xa7\\x89\\rN_\\xcbD[v\\x00\\xd7\\xc1\\xbeq\\xb7\\x11\\xb6\\xb3+DD\\xf0xU~\\xf8.O\\x05Y\"T7\\xb4U\\xaa\\x9a\\x0b\\xba\\xff\\x89\\xc84S\\x1aE\\x11Q%\\xc93\\xd6\\xcdl\\xdc\\xa8\\xf8'\n"
     ]
    }
   ],
   "source": [
    "import codecs\n",
    "encrypted = codecs.decode(encrypted, 'hex')\n",
    "print(encrypted)"
   ]
  },
  {
   "cell_type": "code",
   "execution_count": 3,
   "metadata": {},
   "outputs": [],
   "source": [
    "def chunk(input_data, size):\n",
    "    return [input_data[i:i + size] for i in range(0, len(input_data), size)]"
   ]
  },
  {
   "cell_type": "code",
   "execution_count": 4,
   "metadata": {},
   "outputs": [],
   "source": [
    "chunks = chunk(encrypted, 16)"
   ]
  },
  {
   "cell_type": "code",
   "execution_count": 5,
   "metadata": {},
   "outputs": [],
   "source": [
    "plaintext = \"\"\"The Song of the Count\n",
    "\n",
    "You know that I am called the Count\n",
    "Because I really love to count\n",
    "I could sit and count all day\n",
    "Sometimes I get carried away\n",
    "I count slowly, slowly, slowly getting faster\n",
    "Once I've started counting it's really hard to stop\n",
    "Faster, faster. It is so exciting!\n",
    "I could count forever, count until I drop\n",
    "1! 2! 3! 4!\n",
    "1-2-3-4, 1-2-3-4,\n",
    "1-2, i love couning whatever the ammount haha!\n",
    "1-2-3-4, heyyayayay heyayayay that's the sound of the count\n",
    "I count the spiders on the wall...\n",
    "I count the cobwebs in the hall...\n",
    "I count the candles on the shelf...\n",
    "When I'm alone, I count myself!\n",
    "I count slowly, slowly, slowly getting faster\n",
    "Once I've started counting it's really hard to stop\n",
    "Faster, faster. It is so exciting!\n",
    "I could count forever, count until I drop\n",
    "1! 2! 3! 4!\n",
    "1-2-3-4, 1-2-3-4, 1,\n",
    "2 I love counting whatever the\n",
    "ammount! 1-2-3-4 heyayayay heayayay 1-2-3-4\n",
    "That's the song of the Count!\n",
    "\"\"\" + \"p4{__________________________________________________\""
   ]
  },
  {
   "cell_type": "code",
   "execution_count": 6,
   "metadata": {},
   "outputs": [],
   "source": [
    "def pad(data):\n",
    "    pad_byte = 16 - len(data) % 16\n",
    "    return data + (chr(pad_byte) * pad_byte)\n",
    "\n",
    "def xor(*t):\n",
    "    from functools import reduce\n",
    "    from operator import xor\n",
    "    return [reduce(xor, x, 0) for x in zip(*t)]\n",
    "\n",
    "\n",
    "def xor_string(t1, t2):\n",
    "    t1 = map(ord, t1)\n",
    "    t2 = map(ord, t2)\n",
    "    return \"\".join(map(chr, xor(t1, t2)))"
   ]
  },
  {
   "cell_type": "code",
   "execution_count": 7,
   "metadata": {},
   "outputs": [],
   "source": [
    "chunks2 = chunk(pad(plaintext), 16)"
   ]
  },
  {
   "cell_type": "code",
   "execution_count": 8,
   "metadata": {},
   "outputs": [
    {
     "name": "stdout",
     "output_type": "stream",
     "text": [
      "The Song of the \n",
      "[201, 52, 3, 198, 12, 193, 252, 200, 188, 229, 51, 249, 167, 215, 1, 46]\n",
      "Count\n",
      "\n",
      "You know \n",
      "[201, 52, 3, 198, 12, 193, 252, 200, 188, 229, 51, 249, 167, 215, 1, 46]\n",
      "that I am called\n",
      "[201, 52, 3, 198, 12, 193, 252, 200, 188, 229, 51, 249, 167, 215, 1, 46]\n",
      " the Count\n",
      "Becau\n",
      "[201, 52, 3, 198, 12, 193, 252, 200, 188, 229, 51, 249, 167, 215, 1, 46]\n",
      "se I really love\n",
      "[201, 52, 3, 198, 12, 193, 252, 200, 188, 229, 51, 249, 167, 215, 1, 46]\n",
      " to count\n",
      "I coul\n",
      "[201, 52, 3, 198, 12, 193, 252, 200, 188, 229, 51, 249, 167, 215, 1, 46]\n",
      "d sit and count \n",
      "[201, 52, 3, 198, 12, 193, 252, 200, 188, 229, 51, 249, 167, 215, 1, 46]\n",
      "all day\n",
      "Sometime\n",
      "[201, 52, 3, 198, 12, 193, 252, 200, 188, 229, 51, 249, 167, 215, 1, 46]\n",
      "s I get carried \n",
      "[201, 52, 3, 198, 12, 193, 252, 200, 188, 229, 51, 249, 167, 215, 1, 46]\n",
      "away\n",
      "I count slo\n",
      "[201, 52, 3, 198, 12, 193, 252, 200, 188, 229, 51, 249, 167, 215, 1, 46]\n",
      "wly, slowly, slo\n",
      "[49, 74, 199, 40, 133, 241, 121, 215, 53, 15, 223, 12, 254, 65, 111, 149]\n",
      "wly getting fast\n",
      "[49, 74, 199, 40, 133, 241, 121, 215, 53, 15, 223, 12, 254, 65, 111, 149]\n",
      "er\n",
      "Once I've sta\n",
      "[49, 74, 199, 40, 133, 241, 121, 215, 53, 15, 223, 12, 254, 65, 111, 149]\n",
      "rted counting it\n",
      "[49, 74, 199, 40, 133, 241, 121, 215, 53, 15, 223, 12, 254, 65, 111, 149]\n",
      "'s really hard t\n",
      "[49, 74, 199, 40, 133, 241, 121, 215, 53, 15, 223, 12, 254, 65, 111, 149]\n",
      "o stop\n",
      "Faster, f\n",
      "[49, 74, 199, 40, 133, 241, 121, 215, 53, 15, 223, 12, 254, 65, 111, 149]\n",
      "aster. It is so \n",
      "[49, 74, 199, 40, 133, 241, 121, 215, 53, 15, 223, 12, 254, 65, 111, 149]\n",
      "exciting!\n",
      "I coul\n",
      "[49, 74, 199, 40, 133, 241, 121, 215, 53, 15, 223, 12, 254, 65, 111, 149]\n",
      "d count forever,\n",
      "[49, 74, 199, 40, 133, 241, 121, 215, 53, 15, 223, 12, 254, 65, 111, 149]\n",
      " count until I d\n",
      "[49, 74, 199, 40, 133, 241, 121, 215, 53, 15, 223, 12, 254, 65, 111, 149]\n",
      "rop\n",
      "1! 2! 3! 4!\n",
      "\n",
      "[190, 85, 126, 138, 112, 157, 81, 229, 62, 146, 171, 162, 179, 41, 188, 52]\n",
      "1-2-3-4, 1-2-3-4\n",
      "[190, 85, 126, 138, 112, 157, 81, 229, 62, 146, 171, 162, 179, 41, 188, 52]\n",
      ",\n",
      "1-2, i love co\n",
      "[190, 85, 126, 138, 112, 157, 81, 229, 62, 146, 171, 162, 179, 41, 188, 52]\n",
      "uning whatever t\n",
      "[190, 85, 126, 138, 112, 157, 81, 229, 62, 146, 171, 162, 179, 41, 188, 52]\n",
      "he ammount haha!\n",
      "[190, 85, 126, 138, 112, 157, 81, 229, 62, 146, 171, 162, 179, 41, 188, 52]\n",
      "\n",
      "1-2-3-4, heyyay\n",
      "[190, 85, 126, 138, 112, 157, 81, 229, 62, 146, 171, 162, 179, 41, 188, 52]\n",
      "ayay heyayayay t\n",
      "[190, 85, 126, 138, 112, 157, 81, 229, 62, 146, 171, 162, 179, 41, 188, 52]\n",
      "hat's the sound \n",
      "[190, 85, 126, 138, 112, 157, 81, 229, 62, 146, 171, 162, 179, 41, 188, 52]\n",
      "of the count\n",
      "I c\n",
      "[190, 85, 126, 138, 112, 157, 81, 229, 62, 146, 171, 162, 179, 41, 188, 52]\n",
      "ount the spiders\n",
      "[190, 85, 126, 138, 112, 157, 81, 229, 62, 146, 171, 162, 179, 41, 188, 52]\n",
      " on the wall...\n",
      "\n",
      "[25, 174, 128, 238, 206, 230, 157, 83, 23, 215, 69, 129, 172, 136, 197, 151]\n",
      "I count the cobw\n",
      "[25, 174, 128, 238, 206, 230, 157, 83, 23, 215, 69, 129, 172, 136, 197, 151]\n",
      "ebs in the hall.\n",
      "[25, 174, 128, 238, 206, 230, 157, 83, 23, 215, 69, 129, 172, 136, 197, 151]\n",
      "..\n",
      "I count the c\n",
      "[25, 174, 128, 238, 206, 230, 157, 83, 23, 215, 69, 129, 172, 136, 197, 151]\n",
      "andles on the sh\n",
      "[25, 174, 128, 238, 206, 230, 157, 83, 23, 215, 69, 129, 172, 136, 197, 151]\n",
      "elf...\n",
      "When I'm \n",
      "[25, 174, 128, 238, 206, 230, 157, 83, 23, 215, 69, 129, 172, 136, 197, 151]\n",
      "alone, I count m\n",
      "[25, 174, 128, 238, 206, 230, 157, 83, 23, 215, 69, 129, 172, 136, 197, 151]\n",
      "yself!\n",
      "I count s\n",
      "[25, 174, 128, 238, 206, 230, 157, 83, 23, 215, 69, 129, 172, 136, 197, 151]\n",
      "lowly, slowly, s\n",
      "[25, 174, 128, 238, 206, 230, 157, 83, 23, 215, 69, 129, 172, 136, 197, 151]\n",
      "lowly getting fa\n",
      "[127, 101, 224, 6, 173, 130, 153, 227, 216, 237, 168, 234, 246, 217, 144, 169]\n",
      "ster\n",
      "Once I've s\n",
      "[25, 174, 128, 238, 206, 230, 157, 83, 23, 215, 69, 129, 172, 136, 197, 151]\n",
      "tarted counting \n",
      "[127, 101, 224, 6, 173, 130, 153, 227, 216, 237, 168, 234, 246, 217, 144, 169]\n",
      "it's really hard\n",
      "[127, 101, 224, 6, 173, 130, 153, 227, 216, 237, 168, 234, 246, 217, 144, 169]\n",
      " to stop\n",
      "Faster,\n",
      "[127, 101, 224, 6, 173, 130, 153, 227, 216, 237, 168, 234, 246, 217, 144, 169]\n",
      " faster. It is s\n",
      "[127, 101, 224, 6, 173, 130, 153, 227, 216, 237, 168, 234, 246, 217, 144, 169]\n",
      "o exciting!\n",
      "I co\n",
      "[127, 101, 224, 6, 173, 130, 153, 227, 216, 237, 168, 234, 246, 217, 144, 169]\n",
      "uld count foreve\n",
      "[127, 101, 224, 6, 173, 130, 153, 227, 216, 237, 168, 234, 246, 217, 144, 169]\n",
      "r, count until I\n",
      "[127, 101, 224, 6, 173, 130, 153, 227, 216, 237, 168, 234, 246, 217, 144, 169]\n",
      " drop\n",
      "1! 2! 3! 4\n",
      "[127, 101, 224, 6, 173, 130, 153, 227, 216, 237, 168, 234, 246, 217, 144, 169]\n",
      "!\n",
      "1-2-3-4, 1-2-3\n",
      "[33, 167, 39, 241, 68, 35, 158, 81, 1, 52, 154, 220, 106, 82, 17, 104]\n",
      "-4, 1,\n",
      "2 I love \n",
      "[127, 101, 224, 6, 173, 130, 153, 227, 216, 237, 168, 234, 246, 217, 144, 169]\n",
      "counting whateve\n",
      "[33, 167, 39, 241, 68, 35, 158, 81, 1, 52, 154, 220, 106, 82, 17, 104]\n",
      "r the\n",
      "ammount! 1\n",
      "[33, 167, 39, 241, 68, 35, 158, 81, 1, 52, 154, 220, 106, 82, 17, 104]\n",
      "-2-3-4 heyayayay\n",
      "[33, 167, 39, 241, 68, 35, 158, 81, 1, 52, 154, 220, 106, 82, 17, 104]\n",
      " heayayay 1-2-3-\n",
      "[95, 163, 169, 219, 46, 211, 112, 207, 236, 82, 43, 49, 175, 27, 52, 16]\n",
      "4\n",
      "That's the son\n",
      "[167, 65, 33, 105, 32, 125, 55, 88, 193, 59, 222, 197, 100, 212, 160, 240]\n",
      "g of the Count!\n",
      "\n",
      "[33, 167, 39, 241, 68, 35, 158, 81, 1, 52, 154, 220, 106, 82, 17, 104]\n",
      "p4{_____________\n",
      "[95, 163, 169, 229, 5, 211, 91, 248, 214, 82, 17, 0, 148, 27, 4, 41]\n",
      "________________\n",
      "[95, 136, 158, 225, 46, 232, 78, 233, 236, 116, 27, 27, 175, 39, 10, 33]\n",
      "________________\n",
      "[167, 113, 16, 90, 6, 125, 11, 104, 235, 10, 245, 197, 84, 229, 160, 214]\n",
      "_____\u000b",
      "\u000b",
      "\u000b",
      "\u000b",
      "\u000b",
      "\u000b",
      "\u000b",
      "\u000b",
      "\u000b",
      "\u000b",
      "\u000b",
      "\n",
      "[151, 107, 12, 69, 26, 26, 90, 46, 194, 56, 221, 198, 103, 215, 163, 243]\n"
     ]
    }
   ],
   "source": [
    "for i in range(len(chunks)):\n",
    "    print(chunks2[i])\n",
    "    l = []\n",
    "    for j in range(16):\n",
    "        l.append(chunks[i][j] ^ ord(chunks2[i][j]))\n",
    "    print(l)"
   ]
  },
  {
   "cell_type": "code",
   "execution_count": 14,
   "metadata": {
    "scrolled": true
   },
   "outputs": [
    {
     "name": "stdout",
     "output_type": "stream",
     "text": [
      "p4{at_the_end_of\n",
      "_the_day_you_can\n",
      "_only_count_on_y\n",
      "111 o\n",
      "117 u\n",
      "114 r\n",
      "115 s\n",
      "101 e\n",
      "108 l\n",
      "102 f\n",
      "125 }\n",
      "8 \b\n",
      "8 \b\n",
      "8 \b\n",
      "8 \b\n",
      "8 \b\n",
      "8 \b\n",
      "8 \b\n",
      "8 \b\n",
      "ourself}\b\b\b\b\b\b\b\b\n"
     ]
    }
   ],
   "source": [
    "l = [95, 163, 169, 219, 46, 211, 112, 207, 236, 82, 43, 49, 175, 27, 52, 16]\n",
    "for i in range(len(chunks) - 4, len(chunks) - 2):\n",
    "    c = chunks[i]\n",
    "    s = \"\"\n",
    "    for j in range(16):\n",
    "        s += chr(c[j] ^ l[j])\n",
    "    print(s)\n",
    "l = [167, 65, 33, 105, 32, 125, 55, 88, 193, 59, 222, 197, 100, 212, 160, 240]\n",
    "for i in range(len(chunks) - 2, len(chunks)):\n",
    "    c = chunks[i]\n",
    "    s = \"\"\n",
    "    for j in range(16):\n",
    "        s += chr(c[j] ^ l[j])\n",
    "        if i == len(chunks) - 1:\n",
    "            print(c[j] ^ l[j], chr(c[j] ^ l[j]))\n",
    "    print(s)"
   ]
  },
  {
   "cell_type": "markdown",
   "metadata": {},
   "source": [
    "p4{at_the_end_of_the_day_you_can_only_count_on_yourself}"
   ]
  }
 ],
 "metadata": {
  "kernelspec": {
   "display_name": "Python 3",
   "language": "python",
   "name": "python3"
  },
  "language_info": {
   "codemirror_mode": {
    "name": "ipython",
    "version": 3
   },
   "file_extension": ".py",
   "mimetype": "text/x-python",
   "name": "python",
   "nbconvert_exporter": "python",
   "pygments_lexer": "ipython3",
   "version": "3.7.2"
  }
 },
 "nbformat": 4,
 "nbformat_minor": 2
}
